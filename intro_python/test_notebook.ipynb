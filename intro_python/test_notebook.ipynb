{
 "cells": [
  {
   "cell_type": "code",
   "execution_count": 6,
   "metadata": {},
   "outputs": [],
   "source": [
    "import pandas as pd\n",
    "import os"
   ]
  },
  {
   "cell_type": "code",
   "execution_count": 7,
   "metadata": {},
   "outputs": [],
   "source": [
    "def collect_files(search_dir, search_criteria):\n",
    "    \"\"\" Function needs a directory to search in and a file type to search for\n",
    "    It grabs all files matching the patter the user specifies\"\"\"\n",
    "    os.chdir(search_dir)  # I had to add this in to avoid the housing directory from being part of file name\n",
    "    csv_list = glob.glob(search_criteria)\n",
    "    os.chdir(parent_dir)  # resets it back to where it needed to go. Is there an easier way to do this?\n",
    "    return csv_list"
   ]
  },
  {
   "cell_type": "code",
   "execution_count": 2,
   "metadata": {},
   "outputs": [],
   "source": [
    "def read_pandas(path, file, indexing):\n",
    "    \"\"\" Function requires a path, a file extension and whether indexing is true or false\n",
    "    It then reads the file(s) into a pandas dataframe\n",
    "    \"\"\"\n",
    "    read_dir = path + '/' + file\n",
    "    df = pd.read_csv(read_dir, index_col=indexing)\n",
    "    return df"
   ]
  },
  {
   "cell_type": "code",
   "execution_count": 4,
   "metadata": {},
   "outputs": [
    {
     "data": {
      "text/plain": [
       "'/Users/drakeasberry/Desktop/2020_Resbaz_Python/intro_python'"
      ]
     },
     "execution_count": 4,
     "metadata": {},
     "output_type": "execute_result"
    }
   ],
   "source": [
    "pwd"
   ]
  },
  {
   "cell_type": "code",
   "execution_count": 5,
   "metadata": {},
   "outputs": [
    {
     "name": "stdout",
     "output_type": "stream",
     "text": [
      "01_Intro_Python_Programming.ipynb      gapminder_final.csv\r\n",
      "2-16-2020_UofA_Carpentry_Python.ipynb  gapminder_summ_stats.csv\r\n",
      "Intro_Python_Resbaz_2020.ipynb         jn_binder_options.png\r\n",
      "americas_basic_stats.png               jn_options.png\r\n",
      "array_vs_list.png                      oceania_barh.png\r\n",
      "china_germany_summ_stats.csv           test_notebook.ipynb\r\n",
      "\u001b[1m\u001b[36mgapminder_data\u001b[m\u001b[m/                        two_countries_summ_stats.csv\r\n"
     ]
    }
   ],
   "source": [
    "ls"
   ]
  },
  {
   "cell_type": "code",
   "execution_count": null,
   "metadata": {},
   "outputs": [],
   "source": []
  }
 ],
 "metadata": {
  "kernelspec": {
   "display_name": "Python 3",
   "language": "python",
   "name": "python3"
  },
  "language_info": {
   "codemirror_mode": {
    "name": "ipython",
    "version": 3
   },
   "file_extension": ".py",
   "mimetype": "text/x-python",
   "name": "python",
   "nbconvert_exporter": "python",
   "pygments_lexer": "ipython3",
   "version": "3.7.1"
  }
 },
 "nbformat": 4,
 "nbformat_minor": 2
}
