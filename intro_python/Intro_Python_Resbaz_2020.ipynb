{
 "cells": [
  {
   "cell_type": "markdown",
   "metadata": {},
   "source": [
    "                                                                         \n",
    "# An Introduction to Python using Jupyter Notebooks\n",
    "<a id='toc'></a>\n",
    "## Table of Contents:\n",
    "### Introduction\n",
    "* [Python programs are plain text files](#python-programs)\n",
    "* [Use the Jupyter Notebook for editing and running Python](#jn-editing-python) \n",
    "* [How are Jupyter Notebooks stored](#how-its-stored)\n",
    "* [What you need to know](#need-to-know)\n",
    "* [The Notebook has Control and Edit modes](#notebook-modes)\n",
    "* [Use the keyboard and mouse to select and edit cells](#keyboard-mouse)\n",
    "    * [Exercise 1: Run your first Jupyter Notebook cells](#exercise-1)\n",
    "\n",
    "### Using Markdown\n",
    "* [The Notebook will turn Markdown into pretty-printed documentation](#markdown)\n",
    "* [How to use Markdown](#how-to-markdown)\n",
    "* [Markdown Exercises](#md-exercises)\n",
    "* [Markdown Exercise Soultions](#md-solutions)\n",
    "\n",
    "### Introduction to Python 1: Data\n",
    "* [Intro to Python 1: Prerequisites](#python-1)\n",
    "\n",
    "### Introduction to Python 2: A Tool for Programming\n",
    "* [Intro to Python 2: Prerequisites](#python-2)"
   ]
  },
  {
   "cell_type": "markdown",
   "metadata": {},
   "source": [
    "<a id='python-programs'></a>\n",
    "### Python programs are plain text files\n",
    "[Table of Contents](#toc)\n",
    "*   They have the `.py` extension to let everyone (including the operating system) \n",
    "    know it is a Python program.\n",
    "    *   This is convention, not a requirement.\n",
    "*   It's common to write them using a text editor but we are going to use the [Jupyter Notebook](http://jupyter.org/)\n",
    "*   The bit of extra setup is well worth it because the Notebook provides code completion \n",
    "    and other helpful features.\n",
    "*   Notebook files have the extension `.ipynb` to distinguish them from plain-text Python programs.\n",
    "\n",
    "<a id='jn-editing-python'></a>\n",
    "### Use the Jupyter Notebook for editing and running Python\n",
    "[Table of Contents](#toc)\n",
    "*   The [Anaconda package manager](http://www.anaconda.com) is an automated way to install the Jupyter notebook.\n",
    "    *   See [the setup instructions]({{ site.github.url }}/setup/) for Anaconda installation \n",
    "        instructions.\n",
    "*   It also installs all the extra libraries it needs to run.\n",
    "*   Once you have installed Python and the Jupyter Notebook requirements, open a shell and type:\n",
    "\n",
    "> `jupyter notebook`\n",
    "\n",
    "*   This will start a Jupyter Notebook server and open your default web browser. \n",
    "*   The server runs locally on your machine only and does not use an internet connection.\n",
    "*   The server sends messages to your browser.\n",
    "*   The server does the work and the web browser renders the notebook.\n",
    "*   You can type code into the browser and see the result when the web page talks to the server.\n",
    "*   This has several advantages:\n",
    "\t- You can easily type, edit, and copy and paste blocks of code.\n",
    "\t- Tab completion allows you to easily access the names of things you are \n",
    "    using and learn more about them.\n",
    "\t- It allows you to annotate your code with links, different sized text, bullets, \n",
    "    etc to make it more accessible to you and your collaborators.\n",
    "\t- It allows you to display figures next to the code that produces them to \n",
    "    tell a complete story of the analysis.\n",
    "    - **Note: This will modify and delete files on your local machine.**\n",
    "*   The notebook is stored as JSON but can be saved as a .py file if you would\n",
    "    like to run it from the bash shell or a python interpreter.\n",
    "*   Just like a webpage, the saved notebook looks different to what you see when \n",
    "    it gets rendered by your browser.\n",
    "    \n",
    "<a id='how-its-stored'></a>\n",
    "### How are Jupyter Notebooks Stored\n",
    "[Table of Contents](#toc)\n",
    "*   The notebook file is stored in a format called JSON.\n",
    "*   Just like a webpage, what's saved looks different from what you see in your browser.\n",
    "*   But this format allows Jupyter to mix software (in several languages) with documentation and graphics, all in one file.\n",
    "\n",
    "<a id='need-to-know'></a>\n",
    "### What you need to know for today's lesson\n",
    "[Table of Contents](#toc)\n",
    "**Jupyter Notebook options when running locally:**\n",
    "![jn_options.png](jn_options.png)\n",
    "\n",
    "**Jupyter Notebook options when running in Binder:**\n",
    "![jn_binder_options.png](jn_binder_options.png)\n",
    "\n",
    "*   Commands are only run when you tell them to run.  Some lessons require you to run their code in order.\n",
    "*   The File menu has an option called \"Revert to Checkpoint\".  Use that to reset your file in case you delete something on accident.\n",
    "*   The Kernel menu has an options to restart the interpreter and clear the output. \n",
    "*   The Run button will send the code in the selected cell to the interpreter.\n",
    "*   The command pallate function will show you and let you set hotkeys.\n",
    "\n",
    "<a id='notebook-modes'></a>\n",
    "### The Notebook has Control and Edit modes.\n",
    "[Table of Contents](#toc)\n",
    "*   Open a new notebook from the dropdown menu in the top right corner of the file browser page.\n",
    "*   Each notebook contains one or more cells of various types.\n",
    "\n",
    "> ## Code vs. Text\n",
    ">\n",
    "> We often use the term \"code\" to mean \"the source code of \n",
    "> software written in a language such as Python\". \n",
    "> A \"code cell\" in a Notebook is a cell that contains software;\n",
    "> a \"text cell\" is one that contains ordinary prose written for human beings.\n",
    "\n",
    "*   If you press \"esc\" and \"return\" alternately,\n",
    "    the outer border of your code cell will change from blue to green.\n",
    "    *   The difference in color can be subtle.\n",
    "*   These are the control (blue) and edit (green) modes of your notebook.\n",
    "*   If you use the \"esc\" key to make the surround blue\n",
    "    and then press the \"H\" key,\n",
    "    a list of all the shortcut keys will appear.\n",
    "*   When in control mode (esc/blue),\n",
    "    *   The \"B\" key will make a new cell below the currently selected cell.\n",
    "    *   The \"A\" key will make one above.\n",
    "    *   The \"X\" key will delete the current cell.\n",
    "*   There are lots of shortcuts you can try out and most actions can be \n",
    "    done with the menus at the top of the page if you forget the shortcuts.\n",
    "*   If you remember the \"esc\" and \"H\" shortcuts, you will be able to find out all the rest\n",
    "\n",
    "<a id='keyboard-mouse'></a>\n",
    "### Use the keyboard and mouse to select and edit cells.\n",
    "[Table of Contents](#toc)\n",
    "*   Pressing the \"return\" key turns the surround green to \n",
    "    signify edit mode and you can type into the cell.\n",
    "*   Because we want to be able to write many lines of code in a single cell,\n",
    "    pressing the \"return\" key when the border is green moves the cursor to the next line in the cell\n",
    "    just like in a text editor.\n",
    "*   We need some other way to tell the Notebook we want to run what's in the cell.\n",
    "*   Pressing the \"return\" key and the \"shift\" key together will execute the contents of the cell.\n",
    "*   Notice that the \"return\" and \"shift\" keys on the \n",
    "    right of the keyboard are right next to each other."
   ]
  },
  {
   "cell_type": "markdown",
   "metadata": {},
   "source": [
    "<a id='exercise-1'></a>\n",
    "### Practice\n",
    "[Table of Contents](#toc)"
   ]
  },
  {
   "cell_type": "code",
   "execution_count": 3,
   "metadata": {},
   "outputs": [],
   "source": [
    "# Find the shortcut in the command pallate and run this cell.\n",
    "message = \"run me first\""
   ]
  },
  {
   "cell_type": "markdown",
   "metadata": {},
   "source": [
    "If you ran the above cell correctly, there should be a \"number\"(1 if it is the time you have run a cell in this notebook) inside the square brackets to the left of the cell. **Note:** the number will increase everytime you run the cell."
   ]
  },
  {
   "cell_type": "code",
   "execution_count": 4,
   "metadata": {},
   "outputs": [
    {
     "name": "stdout",
     "output_type": "stream",
     "text": [
      "run me first\n"
     ]
    }
   ],
   "source": [
    "# Run this cell and see what the output is. \n",
    "print(message)"
   ]
  },
  {
   "cell_type": "markdown",
   "metadata": {},
   "source": [
    "**If the output beneath the cell looks like this:**\n",
    "```python\n",
    "run me first````\n",
    "Then you have run the cells in the correct order and received the expected output. Why did we get this output?\n",
    "\n",
    "**If the output beneath the cell looks like this:**\n",
    "```python\n",
    "---------------------------------------------------------------------------\n",
    "NameError                                 Traceback (most recent call last)\n",
    "<ipython-input-1-a4525a899574> in <module>\n",
    "      1 # Run this cell and see what the output is.\n",
    "----> 2 print(message)\n",
    "\n",
    "NameError: name 'message' is not defined````\n",
    "Then you have received an error. Read the error message to see what went wrong. Here we have a `NameError`because the computer does not know what the variable `message` is. We need to go back to the first code cell and run it correctly first to define the variable `message`. Then we should be able to run the second code cell and receive the first output (prints the string we assigned to the variable `message`).\n"
   ]
  },
  {
   "cell_type": "markdown",
   "metadata": {},
   "source": [
    "## Using Markdown\n",
    "<a id='markdown'></a>\n",
    "### The Notebook will turn Markdown into pretty-printed documentation.\n",
    "[Table of Contents](#toc)\n",
    "*   Notebooks can also render [Markdown][markdown].\n",
    "    *   A simple plain-text format for writing lists, links, \n",
    "        and other things that might go into a web page.\n",
    "    *   Equivalently, a subset of HTML that looks like what you'd send in an old-fashioned email.\n",
    "*   Turn the current cell into a Markdown cell by entering \n",
    "    the control mode (esc/blue) and press the \"M\" key.\n",
    "*   `In [ ]:` will disappear to show it is no longer a code cell\n",
    "    and you will be able to write in Markdown.\n",
    "*   Turn the current cell into a Code cell\n",
    "    by entering the control mode (esc/blue) and press the \"Y\" key."
   ]
  },
  {
   "cell_type": "markdown",
   "metadata": {},
   "source": [
    "<a id='how-to-markdown'></a>\n",
    "### How to use Markdown\n",
    "[Table of Contents](#toc)\n",
    "<div class=\"row\">\n",
    "  <div class=\"col-md-6\" markdown=\"1\">"
   ]
  },
  {
   "cell_type": "markdown",
   "metadata": {},
   "source": [
    "**The asterisk is a special character in markdown. It will create a bulleted list.**\n",
    "*   Use asterisks   \n",
    "*   to create  \n",
    "*   bulleted lists.  "
   ]
  },
  {
   "cell_type": "markdown",
   "metadata": {},
   "source": [
    "**But what happens when I want to use asterisk in my text. We can use another special, the back slash, also known as an escape charatcer. Place the back slash before any markdown special character without a space to use the special character in your text.**\n",
    "\n",
    "\\*   Use asterisks  \n",
    "\\*   to create  \n",
    "\\*   bullet lists."
   ]
  },
  {
   "cell_type": "markdown",
   "metadata": {},
   "source": [
    "**Use can use numbers to create a numbered list:**\n",
    "1.  Use numbers\n",
    "1.  to create\n",
    "1.  numbered lists."
   ]
  },
  {
   "cell_type": "markdown",
   "metadata": {},
   "source": [
    "**Using differnt Headings to keep consistency through document:**\n",
    "```markdown\n",
    "Markdown syntax to produce headings.\n",
    "\n",
    "# A Level-1 Heading\n",
    "## A Level-2 Heading\n",
    "### A Level-3 Heading\n",
    "```\n",
    "\n",
    "Print version of the three lines of markdown code from above.\n",
    "# A Level-1 Heading\n",
    "## A Level-2 Heading\n",
    "### A Level-3 Heading"
   ]
  },
  {
   "cell_type": "markdown",
   "metadata": {},
   "source": [
    "**Line breaks don't matter. But blank lines create new paragraphs.**\n",
    "```markdown\n",
    "**Markdown syntax:**\n",
    "\n",
    "Line breaks\n",
    "don't matter. _(accomplished by pressing the return key once)_\n",
    "\n",
    "Sometimes though we want to include a line break without starting a new paragraph. We can accomplish this by including two spaces at the end of the line.\n",
    "\n",
    "Here is the first line.  \n",
    "The second line is on the second line but in same paragraph (no blank line).\n",
    "```\n",
    "\n",
    "**Print version of markdown code from above:**\n",
    "\n",
    "Line breaks\n",
    "don't matter. _(accomplished by pressing the return key once)_\n",
    "\n",
    "Sometimes though we want to include a line break without starting a new paragraph. We can accomplish this by including two spaces at the end of the line.\n",
    "\n",
    "Here is the first line.  \n",
    "The second line is on the second line but in same paragraph (no blank line)."
   ]
  },
  {
   "cell_type": "markdown",
   "metadata": {},
   "source": [
    "**Creating links in markdown:**\n",
    "\n",
    "The information inside the `[...]` is what the user will see and the information inside the `(...)` is the pointer or url that the link will take the user to.\n",
    " ```markdown\n",
    "**Markdown Syntax:**\n",
    "\n",
    "[Create links](http://software-carpentry.org) with the following syntax `[...](...)`.\n",
    "Or use [named links][data_carpentry].\n",
    "\n",
    "_Notice the line below only defines the link and is not in printed output. Double click on the cell below this one if you don't believe me._\n",
    "[data_carpentry]: http://datacarpentry.org \n",
    "```"
   ]
  },
  {
   "cell_type": "markdown",
   "metadata": {},
   "source": [
    "**Output of markdown syntax:**\n",
    "\n",
    "[Create links](http://software-carpentry.org) with `[...](...)`.  \n",
    "Or use [named links][data_carpentry].\n",
    "\n",
    "[data_carpentry]: http://datacarpentry.org"
   ]
  },
  {
   "cell_type": "markdown",
   "metadata": {},
   "source": [
    "<a id='md-exercises'></a>\n",
    "## Markdown Exercises\n",
    "[Table of Contents](#toc)"
   ]
  },
  {
   "cell_type": "markdown",
   "metadata": {},
   "source": [
    "### Creating Lists in Markdown\n",
    "\n",
    "**Problem 1: Creating Lists** Create a nested list in a Markdown cell in a notebook that looks like this:\n",
    "\n",
    "1. Get funding.\n",
    "2. Do work.\n",
    "    *   Design experiment.\n",
    "    *   Collect data.\n",
    "    *   Analyze.\n",
    "3. Write up.\n",
    "4. Publish.\n",
    "\n",
    "\n",
    "\n",
    "\n",
    "### Math anyone?\n",
    "**Problem 2: Math in python** What is displayed when a Python cell in a notebook that contains several calculations is executed? For example, what happens when this cell is executed?"
   ]
  },
  {
   "cell_type": "code",
   "execution_count": 4,
   "metadata": {},
   "outputs": [
    {
     "name": "stdout",
     "output_type": "stream",
     "text": [
      "54\n"
     ]
    }
   ],
   "source": [
    "7 * 3\n",
    "\n",
    "2 + 1\n",
    "\n",
    "x = 6 * 7 + 12\n",
    "print(x)"
   ]
  },
  {
   "cell_type": "markdown",
   "metadata": {},
   "source": [
    "**Problem 3: Math in markdown** Change an Existing Cell from Code to Markdown\n",
    "\n",
    "What happens if you write some Python in a code cell and then you switch it to a Markdown cell? For example, put the following in a code cell.\n",
    "\n",
    "1. Run the cell below with `shift + return` to be sure that it works as a code cell. _Hint: it should give you the same result as **Problem 1**.\n",
    "1. Select the cell below and use `escape + M` to switch the cell to Markdown and \"run\" it again with `shift + return`. What happened and how might this be useful?"
   ]
  },
  {
   "cell_type": "markdown",
   "metadata": {},
   "source": [
    "7 * 3  \n",
    "2 + 1\n",
    "\n",
    "x = 6 * 7 + 12  \n",
    "print(x)"
   ]
  },
  {
   "cell_type": "markdown",
   "metadata": {},
   "source": [
    "**Problem 4:** Equations\n",
    "    \n",
    "Standard Markdown (such as we’re using for these notes) won’t render equations, but the Notebook will. \n",
    "\n",
    "`$\\Sigma_{i=1}^{N} 2^{-i} \\approx 1$`\n"
   ]
  },
  {
   "cell_type": "markdown",
   "metadata": {},
   "source": [
    "Create a new Markdown cell below this one and copy the code from above including the \\$ sign at the beginning and the end of line in the new empty cell you created:\n",
    "\n",
    "1. What does it display?\n",
    "1. What do you think the underscore `_` does?\n",
    "1. What do you think the circumflex `^` does?\n",
    "1. What do you think the dollar sign `$` does?"
   ]
  },
  {
   "cell_type": "code",
   "execution_count": 1,
   "metadata": {},
   "outputs": [
    {
     "ename": "SyntaxError",
     "evalue": "invalid syntax (<ipython-input-1-a80a20b3c603>, line 1)",
     "output_type": "error",
     "traceback": [
      "\u001b[0;36m  File \u001b[0;32m\"<ipython-input-1-a80a20b3c603>\"\u001b[0;36m, line \u001b[0;32m1\u001b[0m\n\u001b[0;31m    $\\Sigma_{i=1}^{N} 2^{-i} \\approx 1$\u001b[0m\n\u001b[0m    ^\u001b[0m\n\u001b[0;31mSyntaxError\u001b[0m\u001b[0;31m:\u001b[0m invalid syntax\n"
     ]
    }
   ],
   "source": [
    "$\\Sigma_{i=1}^{N} 2^{-i} \\approx 1$"
   ]
  },
  {
   "cell_type": "markdown",
   "metadata": {},
   "source": [
    "<a id='md-solutions'></a>\n",
    "## Markdown Exercise Solutions\n",
    "[Table of Contents](#toc)"
   ]
  },
  {
   "cell_type": "markdown",
   "metadata": {},
   "source": [
    "### Problem 1: Creating Lists\n",
    "This challenge integrates both the numbered list and bullet list. Note that the bullet list is tabbed over to create the nesting necesary for the list.\n",
    "```markdown\n",
    "**Type the following in your Markdown cell:**\n",
    "1. Get funding.\n",
    "1. Do work.\n",
    "    * Design experiment.\n",
    "    * Collect data.\n",
    "    * Analyze.\n",
    "1. Write up.\n",
    "1. Publish.\n",
    "```"
   ]
  },
  {
   "cell_type": "markdown",
   "metadata": {},
   "source": [
    "### Problem 2: Math in python\n",
    "The output of running the code cell is 54 because 6 multiplied by 7 is 42 and 42 plus 12 equals 54. This equation was stored as a variable called `x` and the last line executed was `print(x)`, which simply prints out the value of variable `x` at the current time. However, it still did all the other mathematical equations `7*3` and `2+1`, but it did not print them out because we did not ask the computer to do so."
   ]
  },
  {
   "cell_type": "markdown",
   "metadata": {},
   "source": [
    "### Problem 3: Math in markdown\n",
    "The Python code gets treated like markdown text. The lines appear as if they are part of one contiguous paragraph. This could be useful to temporarly turn on and off cells in notebooks that get used for multiple purposes. It is also useful when you want to show the code you have written rather than the output of the code execution.  \n",
    "```markdown\n",
    "7*3\n",
    "2+1\n",
    "x = 6 * 7 + 12 \n",
    "print(x)\n",
    "```"
   ]
  },
  {
   "cell_type": "markdown",
   "metadata": {},
   "source": [
    "### Problem 4: Equations\n",
    "`$\\Sigma_{i=1}^{N} 2^{-i} \\approx 1$`\n",
    "\n",
    "$\\Sigma_{i=1}^{N} 2^{-i} \\approx 1$\n",
    "\n",
    "The notebook shows the equation as it would be rendered from latex equation syntax. The dollar sign,`$`, is used to tell markdown that the text in between is a latex equation. If you are not familiar with latex, the underscore, `_`, is used for subscripts and the circumflex, `^`, is used for superscripts. A pair of curly braces, `{` and `}`, is used to group text together so that the statement `i=1` becomes the the subscript and `N` becomes the superscript. Similarly, `-i` is in curly braces to make the whole statement the superscript for `2`. `\\sum` and `\\approx` are latex commands for “sum over” and “approximate” symbols.\n",
    "\n",
    "[anaconda]: https://docs.continuum.io/anaconda/install\n",
    "\n",
    "[markdown]: https://en.wikipedia.org/wiki/Markdown\n",
    "\n",
    "**A common error is to forgot to run the cell as markdown.** The python interpreter does not know what to do with the \\$. Syntax errors generally mean that the user has entered something incorrectly (check for typos before assuming the line of code is wrong altogether.\n",
    "\n",
    "```markdown\n",
    "  File \"<ipython-input-1-a80a20b3c603>\", line 1\n",
    "    $\\Sigma_{i=1}^{N} 2^{-i} \\approx 1$\n",
    "    ^\n",
    "SyntaxError: invalid syntax\n",
    "```\n"
   ]
  },
  {
   "cell_type": "markdown",
   "metadata": {},
   "source": [
    "<a id='python-1'></a>\n",
    "## Intro to Python I: Data\n",
    "[Table of Contents](#toc)\n",
    "\n",
    "\n",
    "**Prerequisites:** None\n",
    "\n",
    "This workshop will help researchers with no prior programming experience learn how to utilize Python to analyze research data. You will learn how to open data files in Python, complete basic data manipulation tasks and save your work without compromising original data. Oftentimes, researchers find themselves needing to do the same task with different data and you will gain basic experience on how Python can help you make more efficient use of your time.\n",
    "\n",
    "**Learning Objectives:**\n",
    "1. Clean/manipulate data\n",
    "1. Automate repetitive tasks\n",
    "\n",
    "**Learning Outcomes:** you will be able to…\n",
    "1. read data into Pandas dataframe\n",
    "1. use Pandas to manipulate data\n",
    "1. save work to a datafile useable in other programs needed by researcher\n",
    "1. write if/else statements\n",
    "1. build for and while loops"
   ]
  },
  {
   "cell_type": "code",
   "execution_count": null,
   "metadata": {},
   "outputs": [],
   "source": []
  },
  {
   "cell_type": "markdown",
   "metadata": {},
   "source": [
    "<a id='python-2'></a>\n",
    "## Intro to Python II: A Tool for Programming \n",
    "[Table of Contents](#toc)\n",
    "    \n",
    "**Prerequisites:** Intro to Python 1: Data OR knowledge of another programming language \n",
    "\n",
    "This workshop will help attendees build on previous knowledge of Python or other programming language in order to harness the powers of Python to make your computer work for you. You will learn how to write their own Python functions, save their code as scripts that can be called from future projects and build a workflow to chain multiple scripts together.\n",
    "\n",
    "**Learning Objectives:**\n",
    "1. Understand the syntax of python functions\n",
    "1. Understand the basics of scripting in python\n",
    "1. Understand data analysis cycles\n",
    "\n",
    "**Learning Outcomes:** you will be able to…\n",
    "1. Write your own functions\n",
    "1. Save code as a script\n",
    "1. Build a workflow"
   ]
  },
  {
   "cell_type": "code",
   "execution_count": null,
   "metadata": {},
   "outputs": [],
   "source": []
  }
 ],
 "metadata": {
  "kernelspec": {
   "display_name": "Python 3",
   "language": "python",
   "name": "python3"
  },
  "language_info": {
   "codemirror_mode": {
    "name": "ipython",
    "version": 3
   },
   "file_extension": ".py",
   "mimetype": "text/x-python",
   "name": "python",
   "nbconvert_exporter": "python",
   "pygments_lexer": "ipython3",
   "version": "3.7.1"
  }
 },
 "nbformat": 4,
 "nbformat_minor": 2
}
